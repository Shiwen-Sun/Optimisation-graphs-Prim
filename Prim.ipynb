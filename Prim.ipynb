{
 "cells": [
  {
   "cell_type": "markdown",
   "metadata": {},
   "source": [
    "BE du 22/09/2021\n",
    "\n",
    "Shiwen SUN\n",
    "Candy Yu-Doublet\n",
    "\n",
    "# MST with Prim's algorithm"
   ]
  },
  {
   "cell_type": "code",
   "execution_count": 16,
   "metadata": {},
   "outputs": [],
   "source": [
    "import os\n",
    "import networkx as nx\n",
    "import numpy as np\n",
    "import heapdict as hd\n",
    "import time"
   ]
  },
  {
   "cell_type": "markdown",
   "metadata": {},
   "source": [
    "## Question 1 : import des data et construction de graph"
   ]
  },
  {
   "cell_type": "code",
   "execution_count": 22,
   "metadata": {},
   "outputs": [
    {
     "name": "stdout",
     "output_type": "stream",
     "text": [
      "expected number of vertices : 500\n",
      "expected number of edges : 2184\n",
      "\n",
      "number of vertices in G: 500\n",
      "number of vertices in G: 2184\n"
     ]
    }
   ],
   "source": [
    "path = os.getcwd()\n",
    "file_path = path+\"/BE-Shiwen SUN-Candy YU-DOUBLET/data/edges.txt\" #le path permettant d'accéder au fichier edges.txt\n",
    "\n",
    "with open(file_path) as data_file:\n",
    "    G = nx.Graph()\n",
    "    (nb_v, nb_e) = data_file.readline().split(' ')\n",
    "    \n",
    "    Edges = []\n",
    "    for line in data_file:\n",
    "        (start, end, cost) = line[:-1].split(' ')\n",
    "        V = (int(start),int(end),int(cost))\n",
    "        Edges.append(V)\n",
    "    \n",
    "    G.add_weighted_edges_from(Edges)\n",
    "\n",
    "print(\"expected number of vertices : {0}\".format(nb_v))\n",
    "print(\"expected number of edges : {0}\".format(nb_e))\n",
    "\n",
    "print(f\"number of vertices in G: {len(G.nodes)}\")\n",
    "print(f\"number of vertices in G: {len(G.edges)}\")\n",
    "\n",
    "#Le graph correspondant aux données dans edges.txt est désormais stocké dans le graph G"
   ]
  },
  {
   "cell_type": "markdown",
   "metadata": {},
   "source": [
    "## Question 2 : implémentation de l'algorithme de Prim"
   ]
  },
  {
   "cell_type": "code",
   "execution_count": 18,
   "metadata": {},
   "outputs": [],
   "source": [
    "# prim est une fonction qui prend en arguements : \n",
    "    # G : un graph sur le quel on cherche à construire l'arbre couvrant minimal\n",
    "    # i : argument optionnel avec l'indice du noeud depuis lequel on commence l'exploration\n",
    "# prim renvoie un graph contenant l'arbre couvrant minimal de G\n",
    "\n",
    "def prim(G,i=0):  \n",
    "\n",
    "    len_G = len(G.nodes)\n",
    "    \n",
    "    #N contient les indices des sommets pas encore explorés \n",
    "    N = list(range(len_G))\n",
    "    \n",
    "    #pred contiendra les indices des prédécesseurs optimaux de chaque sommet\n",
    "    pred=[None]*len_G\n",
    "    \n",
    "    #cheapest contient la liste des distances des sommets à leur meilleur prédécesseur \n",
    "    cheapest=[np.inf]*len_G\n",
    "    \n",
    "    #On choisit de commencer l'exploration par le sommet d'indice i \n",
    "    cheapest[i]=0\n",
    "    \n",
    "\n",
    "    while len(N) != 0:\n",
    "        \n",
    "        #On recherche l'indice du sommet le moins coûteux à relier parmi les sommets non explorés \n",
    "        index_min = N[0]  \n",
    "        for k in N[1:]:\n",
    "            if cheapest[k] <= cheapest[index_min]:\n",
    "                index_min = k\n",
    "\n",
    "        v = list(G.nodes)[index_min]  #v est le sommet correspondant à cet indice \n",
    "        N.remove(index_min)\n",
    "        \n",
    "        #on explore les voisins de v\n",
    "        for n in list(G.neighbors(v)): \n",
    "            index_n = list(G.nodes).index(n) #l'indice du voisin qu'on examine\n",
    "            if index_n in N:\n",
    "                weight_v_n = G.edges[v,n]['weight']\n",
    "                if  weight_v_n <= cheapest[index_n]:\n",
    "                    cheapest[index_n] = weight_v_n\n",
    "                    pred[index_n] = index_min\n",
    "\n",
    "    MST = nx.Graph()\n",
    "    edges = []\n",
    "    for i in range(len(G.nodes)):\n",
    "        start = list(G.nodes)[i]\n",
    "        end = pred[i]\n",
    "        weight = cheapest[i]\n",
    "        edges.append((start,end,weight))\n",
    "        \n",
    "    MST.add_weighted_edges_from(edges)\n",
    "    \n",
    "    return MST"
   ]
  },
  {
   "cell_type": "markdown",
   "metadata": {},
   "source": [
    "## Question 3 : test de la fonction sur les données de edges.txt"
   ]
  },
  {
   "cell_type": "code",
   "execution_count": 19,
   "metadata": {},
   "outputs": [
    {
     "name": "stdout",
     "output_type": "stream",
     "text": [
      "la valeur attendue est de             -3612829\n",
      "la valeur obtenue par la fonction est -3612829\n"
     ]
    }
   ],
   "source": [
    "#Calcul de la distance à partir de l'arbre couvrant minimum donné par la fonction Prim\n",
    "\n",
    "MST1 = prim(G)\n",
    "\n",
    "def distance(MST):\n",
    "    Edges = list(MST.edges.data(\"weight\", default=1))\n",
    "    distances = [x[2] for x in Edges]\n",
    "    return (sum(distances))\n",
    "      \n",
    "distance1 = distance(MST1)\n",
    "\n",
    "print(\"la valeur attendue est de             -3612829\")\n",
    "print(f\"la valeur obtenue par la fonction est {distance1}\")"
   ]
  },
  {
   "cell_type": "markdown",
   "metadata": {},
   "source": [
    "## Question 4 : Implémentation de Prim avec utilisation des tas binaires"
   ]
  },
  {
   "cell_type": "code",
   "execution_count": 20,
   "metadata": {},
   "outputs": [
    {
     "name": "stdout",
     "output_type": "stream",
     "text": [
      "la valeur attendue est de             -3612829\n",
      "la valeur obtenue par la fonction est -3612829\n"
     ]
    }
   ],
   "source": [
    "def prim_heap(G,i=0):  \n",
    "\n",
    "    len_G = len(G.nodes)\n",
    "    heap_cheapest = hd.heapdict()\n",
    "    for n in range(len(G.nodes)):\n",
    "        heap_cheapest[n] = np.inf\n",
    "    heap_cheapest[i] = 0 \n",
    "    pred = [None]*len_G\n",
    "    cheapest = [np.inf]*len_G\n",
    "    \n",
    "    while len(heap_cheapest) != 0:\n",
    "        \n",
    "        # On utilise les tas binaires pour la recherche du sommet le moins coûteux\n",
    "        (index_min,distance) = heap_cheapest.popitem()\n",
    "        v = list(G.nodes)[index_min] \n",
    "        cheapest[index_min] = distance\n",
    "        \n",
    "        for n in list(G.neighbors(v)): \n",
    "            index_n = list(G.nodes).index(n) \n",
    "            if index_n in list(heap_cheapest.keys()):\n",
    "                weight_v_n = G.edges[v,n]['weight']\n",
    "                if  weight_v_n <= heap_cheapest[index_n]:\n",
    "                    heap_cheapest[index_n] = weight_v_n\n",
    "                    pred[index_n] = index_min\n",
    "\n",
    "    MST = nx.Graph()\n",
    "    MST.add_nodes_from(list(G.nodes))\n",
    "    edges = []\n",
    "    for i in range(len(G.nodes)):\n",
    "        start = list(G.nodes)[i]\n",
    "        end = pred[i]\n",
    "        weight = cheapest[i]\n",
    "        edges.append((start,end,weight))\n",
    "        \n",
    "    MST.add_weighted_edges_from(edges)\n",
    "    return MST\n",
    "\n",
    "\n",
    "# test sur les valeurs de edges.txt\n",
    "MST2 = prim_heap(G)\n",
    "distance2 = distance(MST2)\n",
    "\n",
    "print(\"la valeur attendue est de             -3612829\")\n",
    "print(f\"la valeur obtenue par la fonction est {distance2}\")"
   ]
  },
  {
   "cell_type": "markdown",
   "metadata": {},
   "source": [
    "#### Comparaison des temps d'exécution"
   ]
  },
  {
   "cell_type": "code",
   "execution_count": 21,
   "metadata": {},
   "outputs": [
    {
     "name": "stdout",
     "output_type": "stream",
     "text": [
      "Temps d'exécution de Prim SANS utilisation des tas binaires: 0.047103166580200195s\n",
      "Temps d'exécution de Prim AVEC utilisation des tas binaires: 0.09099316596984863s\n"
     ]
    }
   ],
   "source": [
    "start = time.time()\n",
    "MST = prim(G)\n",
    "end = time.time()\n",
    "print(f'Temps d\\'exécution de Prim SANS utilisation des tas binaires: {end-start}s')\n",
    "\n",
    "start2 = time.time()\n",
    "MST2 = prim_heap(G)\n",
    "end2 = time.time()\n",
    "print(f'Temps d\\'exécution de Prim AVEC utilisation des tas binaires: {end2-start2}s')\n",
    "\n",
    "# On peut sans doute encore améliorer l'efficacité du code \n",
    "# dans le cas avec utilisation des tas binaires pour améliorer sa performance"
   ]
  },
  {
   "cell_type": "code",
   "execution_count": null,
   "metadata": {},
   "outputs": [],
   "source": []
  }
 ],
 "metadata": {
  "kernelspec": {
   "display_name": "Python 3",
   "language": "python",
   "name": "python3"
  },
  "language_info": {
   "codemirror_mode": {
    "name": "ipython",
    "version": 3
   },
   "file_extension": ".py",
   "mimetype": "text/x-python",
   "name": "python",
   "nbconvert_exporter": "python",
   "pygments_lexer": "ipython3",
   "version": "3.7.3"
  }
 },
 "nbformat": 4,
 "nbformat_minor": 4
}
